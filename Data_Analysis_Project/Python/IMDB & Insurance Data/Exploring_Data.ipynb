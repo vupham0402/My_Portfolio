{
 "cells": [
  {
   "cell_type": "code",
   "execution_count": 133,
   "metadata": {},
   "outputs": [],
   "source": [
    "from numpy import *\n",
    "import pandas as pd\n",
    "from sklearn.linear_model import LogisticRegression\n",
    "from sklearn.model_selection import train_test_split\n",
    "from sklearn.metrics import classification_report, confusion_matrix\n",
    "%matplotlib inline\n",
    "import matplotlib.pyplot as plt\n",
    "from dmba import classificationSummary\n",
    "from sklearn import linear_model\n",
    "import seaborn as sns\n",
    "import numpy as np\n",
    "\n",
    "\n"
   ]
  },
  {
   "cell_type": "code",
   "execution_count": 4,
   "metadata": {},
   "outputs": [],
   "source": [
    "import os\n",
    "os.getcwd()\n",
    "os.chdir('C:\\\\Users\\\\Ken\\\\Desktop\\\\IT 483')"
   ]
  },
  {
   "cell_type": "code",
   "execution_count": 121,
   "metadata": {},
   "outputs": [
    {
     "name": "stdout",
     "output_type": "stream",
     "text": [
      "  Customer Identifier  Policy ID first_name last_name                 email  \\\n",
      "0              1gMa51    2997410       Lyon     Alsop   lalsop0@gizmodo.com   \n",
      "1              2gFa82    3449970      Fleur     Grier   fgrier1@4shared.com   \n",
      "2              3gFa22    4468891      Kiley    Gailor  kgailor2@skyrock.com   \n",
      "\n",
      "     Model    Make  Model Year                Vin      Color Prior Accident?  \\\n",
      "0    280ZX  Nissan        1979  3C3CFFDR8DT469454       Teal              No   \n",
      "1  Clubman    MINI        2011  2C3CCADG3EH798938    Crimson              No   \n",
      "2      626   Mazda        1992  3FADP4AJ2DM002627  Goldenrod              No   \n",
      "\n",
      "            City           State  Deductible  Insurance Year  Annual Premium  \n",
      "0    Spring Hill         Florida         750            2016           468.0  \n",
      "1        El Paso           Texas        1250            2016           364.0  \n",
      "2  Winston Salem  North Carolina        2500            2016           122.4  \n",
      "     Customer Identifier   Policy ID first_name last_name  \\\n",
      "5879           5918gFa89    58819369    Morgana   Zywicki   \n",
      "5880           5919gMa83  5882288297     Farrel   Zywicki   \n",
      "5881           5920gFa51  5883341691    Morgana   Zywicki   \n",
      "\n",
      "                        email  Model     Make  Model Year                Vin  \\\n",
      "5879      mzywicki65@youtu.be  4000s     Audi        1986  SCFBF04B88G725675   \n",
      "5880  fzywickiir@addtoany.com    GTO  Pontiac        2006  2C3CCABG8CH989495   \n",
      "5881      mzywicki65@youtu.be  4000s     Audi        1986  SCFBF04B88G725675   \n",
      "\n",
      "          Color Prior Accident?      City     State  Deductible  \\\n",
      "5879  Turquoise              No  Brooklyn  New York        1750   \n",
      "5880       Mauv              No   Phoenix   Arizona        2250   \n",
      "5881  Turquoise              No  Brooklyn  New York        1750   \n",
      "\n",
      "      Insurance Year  Annual Premium  \n",
      "5879            2017       501.13620  \n",
      "5880            2018       501.08625  \n",
      "5881            2018       360.50000  \n"
     ]
    }
   ],
   "source": [
    "df = pd.read_csv('Insurance Data Set.csv')\n",
    "\n",
    "print(df.head(3))\n",
    "\n",
    "print(df.tail(3))"
   ]
  },
  {
   "cell_type": "code",
   "execution_count": 135,
   "metadata": {},
   "outputs": [
    {
     "data": {
      "text/plain": [
       "Ford          585\n",
       "Chevrolet     418\n",
       "Toyota        340\n",
       "GMC           256\n",
       "Dodge         235\n",
       "             ... \n",
       "Peugeot         3\n",
       "Aptera          3\n",
       "McLaren         3\n",
       "Studebaker      3\n",
       "Shelby          2\n",
       "Name: Make, Length: 62, dtype: int64"
      ]
     },
     "execution_count": 135,
     "metadata": {},
     "output_type": "execute_result"
    }
   ],
   "source": [
    "df['Make'].value_counts()"
   ]
  },
  {
   "cell_type": "code",
   "execution_count": 137,
   "metadata": {},
   "outputs": [
    {
     "data": {
      "text/plain": [
       "Ford          9.945597\n",
       "Chevrolet     7.106426\n",
       "Toyota        5.780347\n",
       "GMC           4.352261\n",
       "Dodge         3.995240\n",
       "                ...   \n",
       "Peugeot       0.051003\n",
       "Aptera        0.051003\n",
       "McLaren       0.051003\n",
       "Studebaker    0.051003\n",
       "Shelby        0.034002\n",
       "Name: Make, Length: 62, dtype: float64"
      ]
     },
     "execution_count": 137,
     "metadata": {},
     "output_type": "execute_result"
    }
   ],
   "source": [
    "df['Make'].value_counts().div(5882).mul(100)"
   ]
  },
  {
   "cell_type": "code",
   "execution_count": 170,
   "metadata": {},
   "outputs": [
    {
     "data": {
      "image/png": "[encoded data removed]",
      "text/plain": [
       "<Figure size 432x288 with 1 Axes>"
      ]
     },
     "metadata": {
      "needs_background": "light"
     },
     "output_type": "display_data"
    }
   ],
   "source": [
    "bar_df = df['Deductible'].value_counts().to_frame().reset_index()\n",
    "bar_df.columns = ['Deductible', 'Quantity']\n",
    "\n",
    "bar_df = bar_df.astype({'Deductible': str})\n",
    "\n",
    "plt.bar(bar_df['Deductible'], bar_df['Quantity'], color='green')\n",
    "\n",
    "plt.title('Determined The Deductible Value Is Chosen Most By Customers', fontdict={'fontname': 'Comic sans MS', 'fontsize': 20})\n",
    "\n",
    "plt.xlabel('Deductible')\n",
    "plt.ylabel('Quantity')\n",
    "\n",
    "plt.show()"
   ]
  },
  {
   "cell_type": "code",
   "execution_count": 172,
   "metadata": {},
   "outputs": [
    {
     "data": {
      "image/png": "[encoded data removed]",
      "text/plain": [
       "<Figure size 432x288 with 1 Axes>"
      ]
     },
     "metadata": {},
     "output_type": "display_data"
    }
   ],
   "source": [
    "Yes = df.loc[df['Prior Accident?'] == 'Yes'].count()[0]\n",
    "No = df.loc[df['Prior Accident?'] == 'No'].count()[0]\n",
    "\n",
    "labels = ['Yes', 'No']\n",
    "colors = ['Yellow', 'Orange']\n",
    "explode = (0, .2)\n",
    "\n",
    "plt.pie([Yes, No], labels=labels, colors=colors, autopct='%.2f %%', explode=explode)\n",
    "plt.title('Comparing The Percentage Between Customer With Accident and Customer Without Accident')\n",
    "\n",
    "plt.show()"
   ]
  },
  {
   "cell_type": "code",
   "execution_count": 220,
   "metadata": {},
   "outputs": [
    {
     "name": "stdout",
     "output_type": "stream",
     "text": [
      "48\n"
     ]
    }
   ],
   "source": [
    "ded1_df = df.loc[(df['Prior Accident?'] == 'Yes') & (df['Deductible'] == 250)]\n",
    "number_of_rows = len(ded1_df)\n",
    "print(number_of_rows)"
   ]
  },
  {
   "cell_type": "code",
   "execution_count": 221,
   "metadata": {},
   "outputs": [
    {
     "name": "stdout",
     "output_type": "stream",
     "text": [
      "56\n"
     ]
    }
   ],
   "source": [
    "ded2_df = df.loc[(df['Prior Accident?'] == 'Yes') & (df['Deductible'] == 500)]\n",
    "number_of_rows = len(ded2_df)\n",
    "print(number_of_rows)"
   ]
  },
  {
   "cell_type": "code",
   "execution_count": 222,
   "metadata": {},
   "outputs": [
    {
     "name": "stdout",
     "output_type": "stream",
     "text": [
      "54\n"
     ]
    }
   ],
   "source": [
    "ded3_df = df.loc[(df['Prior Accident?'] == 'Yes') & (df['Deductible'] == 750)]\n",
    "number_of_rows = len(ded3_df)\n",
    "print(number_of_rows)"
   ]
  },
  {
   "cell_type": "code",
   "execution_count": 223,
   "metadata": {},
   "outputs": [
    {
     "name": "stdout",
     "output_type": "stream",
     "text": [
      "56\n"
     ]
    }
   ],
   "source": [
    "ded4_df = df.loc[(df['Prior Accident?'] == 'Yes') & (df['Deductible'] == 1000)]\n",
    "number_of_rows = len(ded4_df)\n",
    "print(number_of_rows)"
   ]
  },
  {
   "cell_type": "code",
   "execution_count": 224,
   "metadata": {},
   "outputs": [
    {
     "name": "stdout",
     "output_type": "stream",
     "text": [
      "52\n"
     ]
    }
   ],
   "source": [
    "ded5_df = df.loc[(df['Prior Accident?'] == 'Yes') & (df['Deductible'] == 1250)]\n",
    "number_of_rows = len(ded5_df)\n",
    "print(number_of_rows)"
   ]
  },
  {
   "cell_type": "code",
   "execution_count": 225,
   "metadata": {},
   "outputs": [
    {
     "name": "stdout",
     "output_type": "stream",
     "text": [
      "70\n"
     ]
    }
   ],
   "source": [
    "ded6_df = df.loc[(df['Prior Accident?'] == 'Yes') & (df['Deductible'] == 1500)]\n",
    "number_of_rows = len(ded6_df)\n",
    "print(number_of_rows)"
   ]
  },
  {
   "cell_type": "code",
   "execution_count": 226,
   "metadata": {},
   "outputs": [
    {
     "name": "stdout",
     "output_type": "stream",
     "text": [
      "69\n"
     ]
    }
   ],
   "source": [
    "ded7_df = df.loc[(df['Prior Accident?'] == 'Yes') & (df['Deductible'] == 1750)]\n",
    "number_of_rows = len(ded7_df)\n",
    "print(number_of_rows)"
   ]
  },
  {
   "cell_type": "code",
   "execution_count": 227,
   "metadata": {},
   "outputs": [
    {
     "name": "stdout",
     "output_type": "stream",
     "text": [
      "51\n"
     ]
    }
   ],
   "source": [
    "ded8_df = df.loc[(df['Prior Accident?'] == 'Yes') & (df['Deductible'] == 2000)]\n",
    "number_of_rows = len(ded8_df)\n",
    "print(number_of_rows)"
   ]
  },
  {
   "cell_type": "code",
   "execution_count": 228,
   "metadata": {},
   "outputs": [
    {
     "name": "stdout",
     "output_type": "stream",
     "text": [
      "57\n"
     ]
    }
   ],
   "source": [
    "ded9_df = df.loc[(df['Prior Accident?'] == 'Yes') & (df['Deductible'] == 2250)]\n",
    "number_of_rows = len(ded9_df)\n",
    "print(number_of_rows)"
   ]
  },
  {
   "cell_type": "code",
   "execution_count": 229,
   "metadata": {},
   "outputs": [
    {
     "name": "stdout",
     "output_type": "stream",
     "text": [
      "87\n"
     ]
    }
   ],
   "source": [
    "ded10_df = df.loc[(df['Prior Accident?'] == 'Yes') & (df['Deductible'] == 2500)]\n",
    "number_of_rows = len(ded10_df)\n",
    "print(number_of_rows)"
   ]
  },
  {
   "cell_type": "code",
   "execution_count": 236,
   "metadata": {},
   "outputs": [],
   "source": [
    "mean1 = ded1_df.iloc[:48]['Annual Premium'].mean()\n",
    "mean2 = ded2_df.iloc[:48]['Annual Premium'].mean()\n",
    "mean3 = ded3_df.iloc[:48]['Annual Premium'].mean()\n",
    "mean4 = ded4_df.iloc[:48]['Annual Premium'].mean()\n",
    "mean5 = ded5_df.iloc[:48]['Annual Premium'].mean()\n",
    "mean6 = ded6_df.iloc[:48]['Annual Premium'].mean()\n",
    "mean7 = ded7_df.iloc[:48]['Annual Premium'].mean()\n",
    "mean8 = ded8_df.iloc[:48]['Annual Premium'].mean()\n",
    "mean9 = ded9_df.iloc[:48]['Annual Premium'].mean()\n",
    "mean10 = ded10_df.iloc[:48]['Annual Premium'].mean()"
   ]
  },
  {
   "cell_type": "code",
   "execution_count": 237,
   "metadata": {},
   "outputs": [
    {
     "data": {
      "text/html": [
       "<div>\n",
       "<style scoped>\n",
       "    .dataframe tbody tr th:only-of-type {\n",
       "        vertical-align: middle;\n",
       "    }\n",
       "\n",
       "    .dataframe tbody tr th {\n",
       "        vertical-align: top;\n",
       "    }\n",
       "\n",
       "    .dataframe thead th {\n",
       "        text-align: right;\n",
       "    }\n",
       "</style>\n",
       "<table border=\"1\" class=\"dataframe\">\n",
       "  <thead>\n",
       "    <tr style=\"text-align: right;\">\n",
       "      <th></th>\n",
       "      <th>Value of Deductible</th>\n",
       "      <th>Mean of Annual Premium</th>\n",
       "    </tr>\n",
       "  </thead>\n",
       "  <tbody>\n",
       "    <tr>\n",
       "      <th>0</th>\n",
       "      <td>250</td>\n",
       "      <td>514.810926</td>\n",
       "    </tr>\n",
       "    <tr>\n",
       "      <th>1</th>\n",
       "      <td>500</td>\n",
       "      <td>558.945950</td>\n",
       "    </tr>\n",
       "    <tr>\n",
       "      <th>2</th>\n",
       "      <td>750</td>\n",
       "      <td>524.176824</td>\n",
       "    </tr>\n",
       "    <tr>\n",
       "      <th>3</th>\n",
       "      <td>1000</td>\n",
       "      <td>470.343356</td>\n",
       "    </tr>\n",
       "    <tr>\n",
       "      <th>4</th>\n",
       "      <td>1250</td>\n",
       "      <td>411.882871</td>\n",
       "    </tr>\n",
       "    <tr>\n",
       "      <th>5</th>\n",
       "      <td>1500</td>\n",
       "      <td>398.467208</td>\n",
       "    </tr>\n",
       "    <tr>\n",
       "      <th>6</th>\n",
       "      <td>1750</td>\n",
       "      <td>357.230729</td>\n",
       "    </tr>\n",
       "    <tr>\n",
       "      <th>7</th>\n",
       "      <td>2000</td>\n",
       "      <td>360.015887</td>\n",
       "    </tr>\n",
       "    <tr>\n",
       "      <th>8</th>\n",
       "      <td>2250</td>\n",
       "      <td>341.298071</td>\n",
       "    </tr>\n",
       "    <tr>\n",
       "      <th>9</th>\n",
       "      <td>2500</td>\n",
       "      <td>258.189762</td>\n",
       "    </tr>\n",
       "  </tbody>\n",
       "</table>\n",
       "</div>"
      ],
      "text/plain": [
       "  Value of Deductible  Mean of Annual Premium\n",
       "0                 250              514.810926\n",
       "1                 500              558.945950\n",
       "2                 750              524.176824\n",
       "3                1000              470.343356\n",
       "4                1250              411.882871\n",
       "5                1500              398.467208\n",
       "6                1750              357.230729\n",
       "7                2000              360.015887\n",
       "8                2250              341.298071\n",
       "9                2500              258.189762"
      ]
     },
     "execution_count": 237,
     "metadata": {},
     "output_type": "execute_result"
    }
   ],
   "source": [
    "new_df = pd.DataFrame({\"Value of Deductible\": [\"250\", \"500\", \"750\", \"1000\", \"1250\", \"1500\", \"1750\", \"2000\", \"2250\", \"2500\"], \"Mean of Annual Premium\": [mean1, mean2, mean3, mean4, mean5, mean6, mean7, mean8, mean9, mean10]})\n",
    "new_df"
   ]
  }
 ],
 "metadata": {
  "kernelspec": {
   "display_name": "Python 3",
   "language": "python",
   "name": "python3"
  },
  "language_info": {
   "codemirror_mode": {
    "name": "ipython",
    "version": 3
   },
   "file_extension": ".py",
   "mimetype": "text/x-python",
   "name": "python",
   "nbconvert_exporter": "python",
   "pygments_lexer": "ipython3",
   "version": "3.7.6"
  }
 },
 "nbformat": 4,
 "nbformat_minor": 4
}
